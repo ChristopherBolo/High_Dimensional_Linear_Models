{
 "cells": [
  {
   "cell_type": "markdown",
   "id": "c991d468",
   "metadata": {},
   "source": [
    "# Importar Librerías"
   ]
  },
  {
   "cell_type": "code",
   "execution_count": 4,
   "id": "670e62c9",
   "metadata": {
    "vscode": {
     "languageId": "r"
    }
   },
   "outputs": [
    {
     "name": "stderr",
     "output_type": "stream",
     "text": [
      "Warning message:\n",
      "\"package 'ggplot2' is in use and will not be installed\"\n"
     ]
    },
    {
     "name": "stderr",
     "output_type": "stream",
     "text": [
      "also installing the dependency 'bitops'\n",
      "\n",
      "\n"
     ]
    },
    {
     "name": "stdout",
     "output_type": "stream",
     "text": [
      "package 'bitops' successfully unpacked and MD5 sums checked\n",
      "package 'caTools' successfully unpacked and MD5 sums checked\n",
      "\n",
      "The downloaded binary packages are in\n",
      "\tC:\\Users\\PC\\AppData\\Local\\Temp\\Rtmpuo4mA5\\downloaded_packages\n"
     ]
    }
   ],
   "source": [
    "install.packages(\"ggplot2\")\n",
    "install.packages(\"caTools\")"
   ]
  },
  {
   "cell_type": "markdown",
   "id": "ec3f9f45",
   "metadata": {},
   "source": [
    "# Instalar librerías"
   ]
  },
  {
   "cell_type": "code",
   "execution_count": 5,
   "id": "07f88d4f",
   "metadata": {
    "vscode": {
     "languageId": "r"
    }
   },
   "outputs": [],
   "source": [
    "library(ggplot2)\n",
    "library(caTools)"
   ]
  },
  {
   "cell_type": "markdown",
   "id": "4d60e598",
   "metadata": {},
   "source": [
    "# Generar Data"
   ]
  },
  {
   "cell_type": "code",
   "execution_count": 7,
   "id": "f47ebe91",
   "metadata": {
    "vscode": {
     "languageId": "r"
    }
   },
   "outputs": [],
   "source": [
    "X = runif(1000,0,1)\n",
    "X = sort(X)\n",
    "\n",
    "e = runif(1000,0,1)\n",
    "\n",
    "y = exp(4*X) + e"
   ]
  },
  {
   "cell_type": "markdown",
   "id": "04856a7e",
   "metadata": {},
   "source": [
    "# Loop de Modelos con features crecientes (1,2,5,10,...)"
   ]
  },
  {
   "cell_type": "markdown",
   "id": "55896264",
   "metadata": {},
   "source": [
    "#### Como se mencionó se uso el R cuadrado descentrado"
   ]
  },
  {
   "cell_type": "code",
   "execution_count": null,
   "id": "7bb9e0bd",
   "metadata": {
    "vscode": {
     "languageId": "r"
    }
   },
   "outputs": [
    {
     "name": "stdout",
     "output_type": "stream",
     "text": [
      "   Features        R2 R2_Ajustado R2_OutOfSample\n",
      "1         1 0.8687731   0.8686417      0.8712511\n",
      "2         2 0.9826439   0.9826091      0.9827612\n",
      "3         5 0.9996715   0.9996698      0.9997186\n",
      "4        10 0.9997594   0.9997570      0.9997709\n",
      "5        20 0.9997808   0.9997763      0.9998124\n",
      "6        50 0.9997914   0.9997804      0.9997373\n",
      "7       100 0.9997959   0.9997732      0.9997609\n",
      "8       200 0.9997974   0.9997468      0.9997747\n",
      "9       500 0.9997996   0.9995992      0.9997485\n",
      "10     1000 0.9998014   1.0000000     -1.6245620\n"
     ]
    }
   ],
   "source": [
    "n <- length(y)\n",
    "Features <- c(1, 2, 5, 10, 20, 50, 100, 200, 500, 1000)\n",
    "\n",
    "R_sq_Lista <- numeric()\n",
    "adjustR_sq_Lista <- numeric()\n",
    "R_squared_OutofSample_List <- numeric()\n",
    "\n",
    "for (k in Features) {\n",
    " \n",
    "  X_poly <- as.data.frame(sapply(1:k, function(i) X^i))\n",
    "  colnames(X_poly) <- paste0(\"X\", 1:k)\n",
    "  df_all <- data.frame(y = y, X_poly)\n",
    "  model <- lm(y ~ . - 1, data = df_all)\n",
    "  y_hat <- model$fitted.values\n",
    "\n",
    "  # R^2 \n",
    "  mse <- mean( (y - y_hat)^2 )\n",
    "  R2  <- 1 - mse / mean( y^2 )\n",
    "  R_sq_Lista <- c(R_sq_Lista, R2)\n",
    "\n",
    "  # R^2 AJUSTADO\n",
    "  if (k < n) {\n",
    "    adj_mse <- n / (n - k) * mse\n",
    "    R2_adj  <- 1 - adj_mse / mean( y^2 )\n",
    "  } else {\n",
    "    R2_adj <- 1\n",
    "  }\n",
    "  adjustR_sq_Lista <- c(adjustR_sq_Lista, R2_adj)\n",
    "\n",
    "  # R^2 Out of sample\n",
    "  idx <- sample.int(n, size = floor(0.75 * n))\n",
    "  train_df <- df_all[idx, , drop = FALSE]\n",
    "  test_df  <- df_all[-idx, , drop = FALSE]\n",
    "\n",
    "  model_oos   <- lm(y ~ . - 1, data = train_df)\n",
    "  y_hat_test  <- predict(model_oos, newdata = test_df)\n",
    "\n",
    "  mse_oos <- mean( (test_df$y - y_hat_test)^2 )\n",
    "  R2_oos  <- 1 - mse_oos / mean( (test_df$y)^2 )  \n",
    "  R_squared_OutofSample_List <- c(R_squared_OutofSample_List, R2_oos)\n",
    "}\n",
    "\n",
    "\n",
    "resultados <- data.frame(\n",
    "  Features = Features,\n",
    "  R2 = R_sq_Lista,                   \n",
    "  R2_Ajustado = adjustR_sq_Lista,    \n",
    "  R2_OutOfSample = R_squared_OutofSample_List  S\n",
    ")\n",
    "\n",
    "print(resultados)"
   ]
  },
  {
   "cell_type": "markdown",
   "id": "267097a2",
   "metadata": {},
   "source": [
    "# Gráficos"
   ]
  },
  {
   "cell_type": "code",
   "execution_count": 17,
   "id": "30fdc522",
   "metadata": {
    "vscode": {
     "languageId": "r"
    }
   },
   "outputs": [
    {
     "data": {
      "image/png": "[encoded data removed]",
      "text/plain": [
       "plot without title"
      ]
     },
     "metadata": {
      "image/png": {
       "height": 420,
       "width": 420
      }
     },
     "output_type": "display_data"
    },
    {
     "name": "stderr",
     "output_type": "stream",
     "text": [
      "Warning message:\n",
      "\"\u001b[1m\u001b[22mRemoved 1 row containing missing values or values outside the scale range\n",
      "(`geom_line()`).\"\n",
      "Warning message:\n",
      "\"\u001b[1m\u001b[22mRemoved 1 row containing missing values or values outside the scale range\n",
      "(`geom_point()`).\"\n"
     ]
    },
    {
     "data": {
      "image/png": "[encoded data removed]",
      "text/plain": [
       "plot without title"
      ]
     },
     "metadata": {
      "image/png": {
       "height": 420,
       "width": 420
      }
     },
     "output_type": "display_data"
    },
    {
     "name": "stderr",
     "output_type": "stream",
     "text": [
      "Warning message:\n",
      "\"\u001b[1m\u001b[22mRemoved 1 row containing missing values or values outside the scale range\n",
      "(`geom_line()`).\"\n",
      "Warning message:\n",
      "\"\u001b[1m\u001b[22mRemoved 1 row containing missing values or values outside the scale range\n",
      "(`geom_point()`).\"\n"
     ]
    },
    {
     "data": {
      "image/png": "[encoded data removed]",
      "text/plain": [
       "plot without title"
      ]
     },
     "metadata": {
      "image/png": {
       "height": 420,
       "width": 420
      }
     },
     "output_type": "display_data"
    }
   ],
   "source": [
    "# R² \n",
    "ggplot(resultados, aes(x = Features, y = R2)) +\n",
    "  geom_line() +\n",
    "  geom_point() +\n",
    "  labs(\n",
    "    x = \"Número de features\",\n",
    "    y = expression(R^2 ~ \"(Normal)\"),\n",
    "    title = expression(R^2 ~ \"in-sample vs número de features\")\n",
    "  ) +\n",
    "  ylim(0.85, 1.05) +\n",
    "  theme_minimal()\n",
    "\n",
    "ggsave(\"../output/r2_in_sample.png\", dpi = 200, width = 6, height = 4)\n",
    "\n",
    "# R² ajustado\n",
    "ggplot(resultados, aes(x = Features, y = R2_Ajustado)) +\n",
    "  geom_line() +\n",
    "  geom_point() +\n",
    "  labs(\n",
    "    x = \"Número de features\",\n",
    "    y = expression(R^2 ~ \" ajustado (in-sample)\"),\n",
    "    title = expression(R^2 ~ \" ajustado vs número de features\")\n",
    "  ) +\n",
    "  ylim(0.85, 1.05) +\n",
    "  theme_minimal()\n",
    "\n",
    "ggsave(\"../output/r2_adjusted_in_sample.png\", dpi = 200, width = 6, height = 4)\n",
    "\n",
    "# R² out-of-sample\n",
    "ggplot(resultados, aes(x = Features, y = R2_OutOfSample)) +\n",
    "  geom_line() +\n",
    "  geom_point() +\n",
    "  labs(\n",
    "    x = \"Número de features\",\n",
    "    y = expression(R^2 ~ \"(out-of-sample)\"),\n",
    "    title = expression(R^2 ~ \" out-of-sample vs número de features\")\n",
    "  ) +\n",
    "  ylim(0.85, 1.05) +\n",
    "  theme_minimal()\n",
    "\n",
    "ggsave(\"../output/r2_out_of_sample.png\", dpi = 200, width = 6, height = 4)"
   ]
  }
 ],
 "metadata": {
  "kernelspec": {
   "display_name": "R",
   "language": "R",
   "name": "ir"
  },
  "language_info": {
   "codemirror_mode": "r",
   "file_extension": ".r",
   "mimetype": "text/x-r-source",
   "name": "R",
   "pygments_lexer": "r",
   "version": "4.4.3"
  }
 },
 "nbformat": 4,
 "nbformat_minor": 5
}
